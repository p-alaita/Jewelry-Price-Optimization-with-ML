{
 "cells": [
  {
   "cell_type": "markdown",
   "id": "fb58a40c",
   "metadata": {},
   "source": [
    "# 1. Library Import and Initial Setup\n",
    "This section imports all necessary libraries such as pandas, matplotlib, seaborn, etc., which are required for data manipulation, visualization, and modeling. These libraries provide the foundational tools needed for data processing and visualization. Without them, analysis and modeling wouldn't be possible."
   ]
  },
  {
   "cell_type": "code",
   "execution_count": 313,
   "id": "e5f0cf03",
   "metadata": {},
   "outputs": [],
   "source": [
    "import pandas as pd\n",
    "import numpy as np\n",
    "import seaborn as sns\n",
    "import matplotlib.pyplot as plt\n",
    "\n",
    "sns.set()"
   ]
  },
  {
   "cell_type": "markdown",
   "id": "643e89cd",
   "metadata": {},
   "source": [
    "# 2. Data Loading and Inspection\n",
    "This part reads the dataset into memory (most likely using pd.read_csv or similar) and performs an initial inspection using .head(), .info(), or .describe(). To understand the structure, types, and quality of data. It helps in planning the cleaning and transformation stages."
   ]
  },
  {
   "cell_type": "code",
   "execution_count": 314,
   "id": "c3454707",
   "metadata": {},
   "outputs": [
    {
     "data": {
      "text/html": [
       "<div>\n",
       "<style scoped>\n",
       "    .dataframe tbody tr th:only-of-type {\n",
       "        vertical-align: middle;\n",
       "    }\n",
       "\n",
       "    .dataframe tbody tr th {\n",
       "        vertical-align: top;\n",
       "    }\n",
       "\n",
       "    .dataframe thead th {\n",
       "        text-align: right;\n",
       "    }\n",
       "</style>\n",
       "<table border=\"1\" class=\"dataframe\">\n",
       "  <thead>\n",
       "    <tr style=\"text-align: right;\">\n",
       "      <th></th>\n",
       "      <th>2018-12-01 11:40:29 UTC</th>\n",
       "      <th>1924719191579951782</th>\n",
       "      <th>1842195256808833386</th>\n",
       "      <th>1</th>\n",
       "      <th>1806829201890738522</th>\n",
       "      <th>jewelry.earring</th>\n",
       "      <th>0</th>\n",
       "      <th>561.51</th>\n",
       "      <th>1515915625207851155</th>\n",
       "      <th>Unnamed: 9</th>\n",
       "      <th>red</th>\n",
       "      <th>gold</th>\n",
       "      <th>diamond</th>\n",
       "    </tr>\n",
       "  </thead>\n",
       "  <tbody>\n",
       "    <tr>\n",
       "      <th>0</th>\n",
       "      <td>2018-12-01 17:38:31 UTC</td>\n",
       "      <td>1924899396621697920</td>\n",
       "      <td>1806829193678291446</td>\n",
       "      <td>1</td>\n",
       "      <td>1.806829e+18</td>\n",
       "      <td>NaN</td>\n",
       "      <td>NaN</td>\n",
       "      <td>212.14</td>\n",
       "      <td>1.515916e+18</td>\n",
       "      <td>NaN</td>\n",
       "      <td>yellow</td>\n",
       "      <td>gold</td>\n",
       "      <td>NaN</td>\n",
       "    </tr>\n",
       "    <tr>\n",
       "      <th>1</th>\n",
       "      <td>2018-12-02 13:53:42 UTC</td>\n",
       "      <td>1925511016616034733</td>\n",
       "      <td>1842214461889315556</td>\n",
       "      <td>1</td>\n",
       "      <td>1.806829e+18</td>\n",
       "      <td>jewelry.pendant</td>\n",
       "      <td>1.0</td>\n",
       "      <td>54.66</td>\n",
       "      <td>1.515916e+18</td>\n",
       "      <td>f</td>\n",
       "      <td>white</td>\n",
       "      <td>gold</td>\n",
       "      <td>sapphire</td>\n",
       "    </tr>\n",
       "    <tr>\n",
       "      <th>2</th>\n",
       "      <td>2018-12-02 17:44:02 UTC</td>\n",
       "      <td>1925626951238681511</td>\n",
       "      <td>1835566849434059453</td>\n",
       "      <td>1</td>\n",
       "      <td>1.806829e+18</td>\n",
       "      <td>jewelry.pendant</td>\n",
       "      <td>0.0</td>\n",
       "      <td>88.90</td>\n",
       "      <td>1.515916e+18</td>\n",
       "      <td>f</td>\n",
       "      <td>red</td>\n",
       "      <td>gold</td>\n",
       "      <td>diamond</td>\n",
       "    </tr>\n",
       "    <tr>\n",
       "      <th>3</th>\n",
       "      <td>2018-12-02 21:30:19 UTC</td>\n",
       "      <td>1925740842841014667</td>\n",
       "      <td>1873936840742928865</td>\n",
       "      <td>1</td>\n",
       "      <td>1.806829e+18</td>\n",
       "      <td>jewelry.necklace</td>\n",
       "      <td>0.0</td>\n",
       "      <td>417.67</td>\n",
       "      <td>1.515916e+18</td>\n",
       "      <td>NaN</td>\n",
       "      <td>red</td>\n",
       "      <td>gold</td>\n",
       "      <td>amethyst</td>\n",
       "    </tr>\n",
       "    <tr>\n",
       "      <th>4</th>\n",
       "      <td>2018-12-02 22:09:34 UTC</td>\n",
       "      <td>1925760595336888995</td>\n",
       "      <td>1835566854827934449</td>\n",
       "      <td>1</td>\n",
       "      <td>1.806829e+18</td>\n",
       "      <td>jewelry.earring</td>\n",
       "      <td>1.0</td>\n",
       "      <td>102.27</td>\n",
       "      <td>1.515916e+18</td>\n",
       "      <td>NaN</td>\n",
       "      <td>red</td>\n",
       "      <td>gold</td>\n",
       "      <td>NaN</td>\n",
       "    </tr>\n",
       "  </tbody>\n",
       "</table>\n",
       "</div>"
      ],
      "text/plain": [
       "   2018-12-01 11:40:29 UTC  1924719191579951782  1842195256808833386  1  \\\n",
       "0  2018-12-01 17:38:31 UTC  1924899396621697920  1806829193678291446  1   \n",
       "1  2018-12-02 13:53:42 UTC  1925511016616034733  1842214461889315556  1   \n",
       "2  2018-12-02 17:44:02 UTC  1925626951238681511  1835566849434059453  1   \n",
       "3  2018-12-02 21:30:19 UTC  1925740842841014667  1873936840742928865  1   \n",
       "4  2018-12-02 22:09:34 UTC  1925760595336888995  1835566854827934449  1   \n",
       "\n",
       "   1806829201890738522   jewelry.earring    0  561.51  1515915625207851155  \\\n",
       "0         1.806829e+18               NaN  NaN  212.14         1.515916e+18   \n",
       "1         1.806829e+18   jewelry.pendant  1.0   54.66         1.515916e+18   \n",
       "2         1.806829e+18   jewelry.pendant  0.0   88.90         1.515916e+18   \n",
       "3         1.806829e+18  jewelry.necklace  0.0  417.67         1.515916e+18   \n",
       "4         1.806829e+18   jewelry.earring  1.0  102.27         1.515916e+18   \n",
       "\n",
       "  Unnamed: 9     red  gold   diamond  \n",
       "0        NaN  yellow  gold       NaN  \n",
       "1          f   white  gold  sapphire  \n",
       "2          f     red  gold   diamond  \n",
       "3        NaN     red  gold  amethyst  \n",
       "4        NaN     red  gold       NaN  "
      ]
     },
     "execution_count": 314,
     "metadata": {},
     "output_type": "execute_result"
    }
   ],
   "source": [
    "df = pd.read_csv(\"../data/Jewelry_Dataset.csv\")\n",
    "df.head()"
   ]
  },
  {
   "cell_type": "code",
   "execution_count": 328,
   "id": "e04592e6",
   "metadata": {},
   "outputs": [],
   "source": [
    "columns = [\n",
    "    'Order datetime', 'Order ID', 'Purchased product ID', 'Quantity of SKU in the order',\n",
    "    'Category ID', 'Category alias', 'Brand ID', 'Price in USD', 'User ID',\n",
    "    'Product gender', 'Main Color', 'Main metal', 'Main gem'\n",
    "]\n"
   ]
  },
  {
   "cell_type": "code",
   "execution_count": 330,
   "id": "7baa65a9",
   "metadata": {},
   "outputs": [
    {
     "data": {
      "text/html": [
       "<div>\n",
       "<style scoped>\n",
       "    .dataframe tbody tr th:only-of-type {\n",
       "        vertical-align: middle;\n",
       "    }\n",
       "\n",
       "    .dataframe tbody tr th {\n",
       "        vertical-align: top;\n",
       "    }\n",
       "\n",
       "    .dataframe thead th {\n",
       "        text-align: right;\n",
       "    }\n",
       "</style>\n",
       "<table border=\"1\" class=\"dataframe\">\n",
       "  <thead>\n",
       "    <tr style=\"text-align: right;\">\n",
       "      <th></th>\n",
       "      <th>Order datetime</th>\n",
       "      <th>Order ID</th>\n",
       "      <th>Purchased product ID</th>\n",
       "      <th>Quantity of SKU in the order</th>\n",
       "      <th>Category ID</th>\n",
       "      <th>Category alias</th>\n",
       "      <th>Brand ID</th>\n",
       "      <th>Price in USD</th>\n",
       "      <th>User ID</th>\n",
       "      <th>Product gender</th>\n",
       "      <th>Main Color</th>\n",
       "      <th>Main metal</th>\n",
       "      <th>Main gem</th>\n",
       "    </tr>\n",
       "  </thead>\n",
       "  <tbody>\n",
       "    <tr>\n",
       "      <th>0</th>\n",
       "      <td>2018-12-01 11:40:29 UTC</td>\n",
       "      <td>1924719191579951782</td>\n",
       "      <td>1842195256808833386</td>\n",
       "      <td>1</td>\n",
       "      <td>1.806829e+18</td>\n",
       "      <td>jewelry.earring</td>\n",
       "      <td>0.0</td>\n",
       "      <td>561.51</td>\n",
       "      <td>1.515916e+18</td>\n",
       "      <td>NaN</td>\n",
       "      <td>red</td>\n",
       "      <td>gold</td>\n",
       "      <td>diamond</td>\n",
       "    </tr>\n",
       "    <tr>\n",
       "      <th>1</th>\n",
       "      <td>2018-12-01 17:38:31 UTC</td>\n",
       "      <td>1924899396621697920</td>\n",
       "      <td>1806829193678291446</td>\n",
       "      <td>1</td>\n",
       "      <td>1.806829e+18</td>\n",
       "      <td>NaN</td>\n",
       "      <td>NaN</td>\n",
       "      <td>212.14</td>\n",
       "      <td>1.515916e+18</td>\n",
       "      <td>NaN</td>\n",
       "      <td>yellow</td>\n",
       "      <td>gold</td>\n",
       "      <td>NaN</td>\n",
       "    </tr>\n",
       "    <tr>\n",
       "      <th>2</th>\n",
       "      <td>2018-12-02 13:53:42 UTC</td>\n",
       "      <td>1925511016616034733</td>\n",
       "      <td>1842214461889315556</td>\n",
       "      <td>1</td>\n",
       "      <td>1.806829e+18</td>\n",
       "      <td>jewelry.pendant</td>\n",
       "      <td>1.0</td>\n",
       "      <td>54.66</td>\n",
       "      <td>1.515916e+18</td>\n",
       "      <td>f</td>\n",
       "      <td>white</td>\n",
       "      <td>gold</td>\n",
       "      <td>sapphire</td>\n",
       "    </tr>\n",
       "    <tr>\n",
       "      <th>3</th>\n",
       "      <td>2018-12-02 17:44:02 UTC</td>\n",
       "      <td>1925626951238681511</td>\n",
       "      <td>1835566849434059453</td>\n",
       "      <td>1</td>\n",
       "      <td>1.806829e+18</td>\n",
       "      <td>jewelry.pendant</td>\n",
       "      <td>0.0</td>\n",
       "      <td>88.90</td>\n",
       "      <td>1.515916e+18</td>\n",
       "      <td>f</td>\n",
       "      <td>red</td>\n",
       "      <td>gold</td>\n",
       "      <td>diamond</td>\n",
       "    </tr>\n",
       "    <tr>\n",
       "      <th>4</th>\n",
       "      <td>2018-12-02 21:30:19 UTC</td>\n",
       "      <td>1925740842841014667</td>\n",
       "      <td>1873936840742928865</td>\n",
       "      <td>1</td>\n",
       "      <td>1.806829e+18</td>\n",
       "      <td>jewelry.necklace</td>\n",
       "      <td>0.0</td>\n",
       "      <td>417.67</td>\n",
       "      <td>1.515916e+18</td>\n",
       "      <td>NaN</td>\n",
       "      <td>red</td>\n",
       "      <td>gold</td>\n",
       "      <td>amethyst</td>\n",
       "    </tr>\n",
       "  </tbody>\n",
       "</table>\n",
       "</div>"
      ],
      "text/plain": [
       "            Order datetime             Order ID  Purchased product ID  \\\n",
       "0  2018-12-01 11:40:29 UTC  1924719191579951782   1842195256808833386   \n",
       "1  2018-12-01 17:38:31 UTC  1924899396621697920   1806829193678291446   \n",
       "2  2018-12-02 13:53:42 UTC  1925511016616034733   1842214461889315556   \n",
       "3  2018-12-02 17:44:02 UTC  1925626951238681511   1835566849434059453   \n",
       "4  2018-12-02 21:30:19 UTC  1925740842841014667   1873936840742928865   \n",
       "\n",
       "   Quantity of SKU in the order   Category ID    Category alias  Brand ID  \\\n",
       "0                             1  1.806829e+18   jewelry.earring       0.0   \n",
       "1                             1  1.806829e+18               NaN       NaN   \n",
       "2                             1  1.806829e+18   jewelry.pendant       1.0   \n",
       "3                             1  1.806829e+18   jewelry.pendant       0.0   \n",
       "4                             1  1.806829e+18  jewelry.necklace       0.0   \n",
       "\n",
       "   Price in USD       User ID Product gender Main Color Main metal  Main gem  \n",
       "0        561.51  1.515916e+18            NaN        red       gold   diamond  \n",
       "1        212.14  1.515916e+18            NaN     yellow       gold       NaN  \n",
       "2         54.66  1.515916e+18              f      white       gold  sapphire  \n",
       "3         88.90  1.515916e+18              f        red       gold   diamond  \n",
       "4        417.67  1.515916e+18            NaN        red       gold  amethyst  "
      ]
     },
     "execution_count": 330,
     "metadata": {},
     "output_type": "execute_result"
    }
   ],
   "source": [
    "df = pd.read_csv(\"../data/Jewelry_Dataset.csv\", header=None, names=columns)\n",
    "df.head(n=5)"
   ]
  },
  {
   "cell_type": "code",
   "execution_count": 331,
   "id": "1e43294b",
   "metadata": {},
   "outputs": [
    {
     "name": "stdout",
     "output_type": "stream",
     "text": [
      "Index(['Order datetime', 'Order ID', 'Purchased product ID',\n",
      "       'Quantity of SKU in the order', 'Category ID', 'Category alias',\n",
      "       'Brand ID', 'Price in USD', 'User ID', 'Product gender', 'Main Color',\n",
      "       'Main metal', 'Main gem'],\n",
      "      dtype='object')\n"
     ]
    }
   ],
   "source": [
    "# Check the column names\n",
    "print(df.columns)\n"
   ]
  },
  {
   "cell_type": "code",
   "execution_count": 332,
   "id": "207ca1fe",
   "metadata": {},
   "outputs": [
    {
     "name": "stdout",
     "output_type": "stream",
     "text": [
      "Index(['Order datetime', 'Order ID', 'Purchased product ID',\n",
      "       'Quantity of SKU in the order', 'Category ID', 'Category alias',\n",
      "       'Brand ID', 'Price in USD', 'User ID', 'Product gender', 'Main Color',\n",
      "       'Main metal', 'Main gem'],\n",
      "      dtype='object')\n"
     ]
    }
   ],
   "source": [
    "# Strip any leading or trailing spaces from column names\n",
    "df.columns = df.columns.str.strip()\n",
    "\n",
    "# Check the column names again to ensure there are no spaces\n",
    "print(df.columns)\n"
   ]
  },
  {
   "cell_type": "code",
   "execution_count": 333,
   "id": "733b891f",
   "metadata": {},
   "outputs": [
    {
     "name": "stdout",
     "output_type": "stream",
     "text": [
      "Order datetime                      0\n",
      "Order ID                            0\n",
      "Purchased product ID                0\n",
      "Quantity of SKU in the order        0\n",
      "Category ID                      5352\n",
      "Category alias                   9933\n",
      "Brand ID                         4785\n",
      "Price in USD                     5352\n",
      "User ID                          5352\n",
      "Product gender                  48168\n",
      "Main Color                       7660\n",
      "Main metal                       5462\n",
      "Main gem                        34058\n",
      "dtype: int64\n"
     ]
    }
   ],
   "source": [
    "# Check for missing values\n",
    "print(df.isnull().sum())"
   ]
  },
  {
   "cell_type": "code",
   "execution_count": 334,
   "id": "5c281506",
   "metadata": {},
   "outputs": [
    {
     "data": {
      "text/plain": [
       "(95911, 13)"
      ]
     },
     "execution_count": 334,
     "metadata": {},
     "output_type": "execute_result"
    }
   ],
   "source": [
    "df.shape"
   ]
  },
  {
   "cell_type": "code",
   "execution_count": 335,
   "id": "fc7b3cd2",
   "metadata": {},
   "outputs": [
    {
     "data": {
      "text/plain": [
       "Order datetime                  74505\n",
       "Order ID                        74760\n",
       "Purchased product ID             9613\n",
       "Quantity of SKU in the order        1\n",
       "Category ID                        25\n",
       "Category alias                    218\n",
       "Brand ID                         2537\n",
       "Price in USD                     3166\n",
       "User ID                         31079\n",
       "Product gender                      2\n",
       "Main Color                          5\n",
       "Main metal                          3\n",
       "Main gem                           30\n",
       "dtype: int64"
      ]
     },
     "execution_count": 335,
     "metadata": {},
     "output_type": "execute_result"
    }
   ],
   "source": [
    "# Check for unique values-feature cardinalty\n",
    "df.nunique()"
   ]
  },
  {
   "cell_type": "code",
   "execution_count": 336,
   "id": "74ee3ca2",
   "metadata": {},
   "outputs": [
    {
     "data": {
      "text/html": [
       "<div>\n",
       "<style scoped>\n",
       "    .dataframe tbody tr th:only-of-type {\n",
       "        vertical-align: middle;\n",
       "    }\n",
       "\n",
       "    .dataframe tbody tr th {\n",
       "        vertical-align: top;\n",
       "    }\n",
       "\n",
       "    .dataframe thead th {\n",
       "        text-align: right;\n",
       "    }\n",
       "</style>\n",
       "<table border=\"1\" class=\"dataframe\">\n",
       "  <thead>\n",
       "    <tr style=\"text-align: right;\">\n",
       "      <th></th>\n",
       "      <th>Order ID</th>\n",
       "      <th>Purchased product ID</th>\n",
       "      <th>Quantity of SKU in the order</th>\n",
       "      <th>Category ID</th>\n",
       "      <th>Brand ID</th>\n",
       "      <th>Price in USD</th>\n",
       "      <th>User ID</th>\n",
       "    </tr>\n",
       "  </thead>\n",
       "  <tbody>\n",
       "    <tr>\n",
       "      <th>count</th>\n",
       "      <td>9.591100e+04</td>\n",
       "      <td>9.591100e+04</td>\n",
       "      <td>95911.0</td>\n",
       "      <td>9.055900e+04</td>\n",
       "      <td>9.112600e+04</td>\n",
       "      <td>90559.000000</td>\n",
       "      <td>9.055900e+04</td>\n",
       "    </tr>\n",
       "    <tr>\n",
       "      <th>mean</th>\n",
       "      <td>2.485185e+18</td>\n",
       "      <td>1.815970e+18</td>\n",
       "      <td>1.0</td>\n",
       "      <td>1.805947e+18</td>\n",
       "      <td>8.890938e+16</td>\n",
       "      <td>362.215217</td>\n",
       "      <td>1.512644e+18</td>\n",
       "    </tr>\n",
       "    <tr>\n",
       "      <th>std</th>\n",
       "      <td>1.934825e+17</td>\n",
       "      <td>2.136803e+17</td>\n",
       "      <td>0.0</td>\n",
       "      <td>2.083942e+16</td>\n",
       "      <td>3.559633e+17</td>\n",
       "      <td>444.155706</td>\n",
       "      <td>2.374763e+16</td>\n",
       "    </tr>\n",
       "    <tr>\n",
       "      <th>min</th>\n",
       "      <td>1.924719e+18</td>\n",
       "      <td>1.313551e+18</td>\n",
       "      <td>1.0</td>\n",
       "      <td>1.313678e+18</td>\n",
       "      <td>0.000000e+00</td>\n",
       "      <td>0.990000</td>\n",
       "      <td>1.313554e+18</td>\n",
       "    </tr>\n",
       "    <tr>\n",
       "      <th>25%</th>\n",
       "      <td>2.379723e+18</td>\n",
       "      <td>1.515966e+18</td>\n",
       "      <td>1.0</td>\n",
       "      <td>1.806829e+18</td>\n",
       "      <td>0.000000e+00</td>\n",
       "      <td>145.620000</td>\n",
       "      <td>1.515916e+18</td>\n",
       "    </tr>\n",
       "    <tr>\n",
       "      <th>50%</th>\n",
       "      <td>2.524276e+18</td>\n",
       "      <td>1.956664e+18</td>\n",
       "      <td>1.0</td>\n",
       "      <td>1.806829e+18</td>\n",
       "      <td>1.000000e+00</td>\n",
       "      <td>258.770000</td>\n",
       "      <td>1.515916e+18</td>\n",
       "    </tr>\n",
       "    <tr>\n",
       "      <th>75%</th>\n",
       "      <td>2.644347e+18</td>\n",
       "      <td>1.956664e+18</td>\n",
       "      <td>1.0</td>\n",
       "      <td>1.806829e+18</td>\n",
       "      <td>1.000000e+00</td>\n",
       "      <td>431.370000</td>\n",
       "      <td>1.515916e+18</td>\n",
       "    </tr>\n",
       "    <tr>\n",
       "      <th>max</th>\n",
       "      <td>2.719022e+18</td>\n",
       "      <td>2.541962e+18</td>\n",
       "      <td>1.0</td>\n",
       "      <td>1.806829e+18</td>\n",
       "      <td>1.550613e+18</td>\n",
       "      <td>34448.600000</td>\n",
       "      <td>1.554297e+18</td>\n",
       "    </tr>\n",
       "  </tbody>\n",
       "</table>\n",
       "</div>"
      ],
      "text/plain": [
       "           Order ID  Purchased product ID  Quantity of SKU in the order  \\\n",
       "count  9.591100e+04          9.591100e+04                       95911.0   \n",
       "mean   2.485185e+18          1.815970e+18                           1.0   \n",
       "std    1.934825e+17          2.136803e+17                           0.0   \n",
       "min    1.924719e+18          1.313551e+18                           1.0   \n",
       "25%    2.379723e+18          1.515966e+18                           1.0   \n",
       "50%    2.524276e+18          1.956664e+18                           1.0   \n",
       "75%    2.644347e+18          1.956664e+18                           1.0   \n",
       "max    2.719022e+18          2.541962e+18                           1.0   \n",
       "\n",
       "        Category ID      Brand ID  Price in USD       User ID  \n",
       "count  9.055900e+04  9.112600e+04  90559.000000  9.055900e+04  \n",
       "mean   1.805947e+18  8.890938e+16    362.215217  1.512644e+18  \n",
       "std    2.083942e+16  3.559633e+17    444.155706  2.374763e+16  \n",
       "min    1.313678e+18  0.000000e+00      0.990000  1.313554e+18  \n",
       "25%    1.806829e+18  0.000000e+00    145.620000  1.515916e+18  \n",
       "50%    1.806829e+18  1.000000e+00    258.770000  1.515916e+18  \n",
       "75%    1.806829e+18  1.000000e+00    431.370000  1.515916e+18  \n",
       "max    1.806829e+18  1.550613e+18  34448.600000  1.554297e+18  "
      ]
     },
     "execution_count": 336,
     "metadata": {},
     "output_type": "execute_result"
    }
   ],
   "source": [
    "# Data description\n",
    "df.describe()"
   ]
  },
  {
   "cell_type": "code",
   "execution_count": 337,
   "id": "3967fc92",
   "metadata": {},
   "outputs": [
    {
     "name": "stdout",
     "output_type": "stream",
     "text": [
      "<class 'pandas.core.frame.DataFrame'>\n",
      "RangeIndex: 95911 entries, 0 to 95910\n",
      "Data columns (total 13 columns):\n",
      " #   Column                        Non-Null Count  Dtype  \n",
      "---  ------                        --------------  -----  \n",
      " 0   Order datetime                95911 non-null  object \n",
      " 1   Order ID                      95911 non-null  int64  \n",
      " 2   Purchased product ID          95911 non-null  int64  \n",
      " 3   Quantity of SKU in the order  95911 non-null  int64  \n",
      " 4   Category ID                   90559 non-null  float64\n",
      " 5   Category alias                85978 non-null  object \n",
      " 6   Brand ID                      91126 non-null  float64\n",
      " 7   Price in USD                  90559 non-null  float64\n",
      " 8   User ID                       90559 non-null  float64\n",
      " 9   Product gender                47743 non-null  object \n",
      " 10  Main Color                    88251 non-null  object \n",
      " 11  Main metal                    90449 non-null  object \n",
      " 12  Main gem                      61853 non-null  object \n",
      "dtypes: float64(4), int64(3), object(6)\n",
      "memory usage: 9.5+ MB\n"
     ]
    }
   ],
   "source": [
    "df.info()"
   ]
  },
  {
   "cell_type": "markdown",
   "id": "b0cf0db5",
   "metadata": {},
   "source": [
    "# 3. Data Preprocessing\n",
    "For section, steps are carries out to preprocess the data. the steps involved are Dropping irrelevant columns (like Order ID, User ID, etc.), Handling missing or null values, Type conversion where needed. Cleaning ensures that the data is consistent and formatted correctly, enabling accurate analysis and modeling."
   ]
  },
  {
   "cell_type": "code",
   "execution_count": 338,
   "id": "4ec7921f",
   "metadata": {},
   "outputs": [],
   "source": [
    "# check for duplicate values\n",
    "num_duplicated = len(df.loc[df.duplicated()])\n"
   ]
  },
  {
   "cell_type": "code",
   "execution_count": 339,
   "id": "66ea6f5f",
   "metadata": {},
   "outputs": [
    {
     "name": "stdout",
     "output_type": "stream",
     "text": [
      "Number of duplicate records: 2589\n"
     ]
    }
   ],
   "source": [
    "print(f\"Number of duplicate records:\", num_duplicated)"
   ]
  },
  {
   "cell_type": "code",
   "execution_count": 340,
   "id": "6d4e1ad6",
   "metadata": {},
   "outputs": [],
   "source": [
    "# feature with cardinalty of 1(invariant feature)\n",
    "invariant_features = df.nunique()[df.nunique() == 1].index.tolist()"
   ]
  },
  {
   "cell_type": "code",
   "execution_count": 341,
   "id": "f7856662",
   "metadata": {},
   "outputs": [
    {
     "data": {
      "text/plain": [
       "['Quantity of SKU in the order']"
      ]
     },
     "execution_count": 341,
     "metadata": {},
     "output_type": "execute_result"
    }
   ],
   "source": [
    "invariant_features"
   ]
  },
  {
   "cell_type": "code",
   "execution_count": 342,
   "id": "ba684b1c",
   "metadata": {},
   "outputs": [
    {
     "data": {
      "text/plain": [
       "18.959088306248297"
      ]
     },
     "execution_count": 342,
     "metadata": {},
     "output_type": "execute_result"
    }
   ],
   "source": [
    "# check for label distribution\n",
    "df['Price in USD'].skew()"
   ]
  },
  {
   "cell_type": "markdown",
   "id": "09cc645c",
   "metadata": {},
   "source": [
    "At the end of the data inspection and preprocessing. the following was notably observed, \n",
    "\n",
    "1. The dataset contains 13 columns, 95,911 rows.\n",
    "\n",
    "2. There are Notable null values in:\n",
    "\n",
    "  a. Category alias (13% missing),\n",
    "\n",
    "  b. Product gender (50% missing),\n",
    "\n",
    "  c. Main gem (35% missing),\n",
    "\n",
    "3. Data types include: object, float64, and int64.\n",
    "\n",
    "Interpretation of the observation above includes:\n",
    "\n",
    "i. Some features have severe missingness (e.g. Product gender, Main gem) and would need imputation or exclusion.\n",
    "\n",
    "ii. Order datetime, User ID, and Purchased product ID are likely identifiers and were later dropped in the analysis."
   ]
  },
  {
   "cell_type": "markdown",
   "id": "815205b8",
   "metadata": {},
   "source": [
    "# 4. Exploratory Data analysis(EDA)\n",
    "Here I perform EDA to understand the data and gain more insights. Actions taken here include Calculation of correlation using Spearman method, Visualization using a correlation heatmap, Identification of highly or moderately correlated features."
   ]
  },
  {
   "cell_type": "code",
   "execution_count": 343,
   "id": "baae4d60",
   "metadata": {},
   "outputs": [
    {
     "data": {
      "image/png": "[encoded data removed]",
      "text/plain": [
       "<Figure size 2800x1000 with 1 Axes>"
      ]
     },
     "metadata": {},
     "output_type": "display_data"
    }
   ],
   "source": [
    "# Visualize Price Distribution\n",
    "plt.figure(figsize = (28, 10))\n",
    "\n",
    "sns.kdeplot(data=df, x= \"Price in USD\")\n",
    "\n",
    "plt.xlabel('Price in Dollars')\n",
    "plt.ylabel('Price Frequency')\n",
    "\n",
    "plt.tight_layout()\n",
    "plt.show(); plt.close()"
   ]
  },
  {
   "cell_type": "code",
   "execution_count": 345,
   "id": "b61731cc",
   "metadata": {},
   "outputs": [
    {
     "data": {
      "text/plain": [
       "1054.9045087611369"
      ]
     },
     "execution_count": 345,
     "metadata": {},
     "output_type": "execute_result"
    }
   ],
   "source": [
    "# Price Kurtosis\n",
    "df[\"Price in USD\"].kurtosis()"
   ]
  },
  {
   "cell_type": "code",
   "execution_count": 346,
   "id": "bb8f5f83",
   "metadata": {},
   "outputs": [
    {
     "data": {
      "text/plain": [
       "f    47379\n",
       "m      364\n",
       "Name: Product gender, dtype: int64"
      ]
     },
     "execution_count": 346,
     "metadata": {},
     "output_type": "execute_result"
    }
   ],
   "source": [
    "# Gender Analysis\n",
    "df[\"Product gender\"].value_counts()"
   ]
  },
  {
   "cell_type": "code",
   "execution_count": 347,
   "id": "690b60f8",
   "metadata": {},
   "outputs": [
    {
     "data": {
      "text/plain": [
       "f    0.992376\n",
       "m    0.007624\n",
       "Name: Product gender, dtype: float64"
      ]
     },
     "execution_count": 347,
     "metadata": {},
     "output_type": "execute_result"
    }
   ],
   "source": [
    "# Gender Analysis\n",
    "df[\"Product gender\"].value_counts(normalize = True)"
   ]
  },
  {
   "cell_type": "code",
   "execution_count": 348,
   "id": "57a9b4f9",
   "metadata": {},
   "outputs": [
    {
     "data": {
      "image/png": "[encoded data removed]",
      "text/plain": [
       "<Figure size 1200x800 with 1 Axes>"
      ]
     },
     "metadata": {},
     "output_type": "display_data"
    }
   ],
   "source": [
    "# visualize product gender\n",
    "plt.figure(figsize = (12, 8))\n",
    "\n",
    "sns.countplot(data=df, x= \"Product gender\")\n",
    "\n",
    "plt.xlabel('Gender')\n",
    "plt.ylabel('Gender subpopulation')\n",
    "\n",
    "plt.show(); plt.close()"
   ]
  },
  {
   "cell_type": "code",
   "execution_count": 349,
   "id": "0516f28e",
   "metadata": {},
   "outputs": [
    {
     "data": {
      "text/plain": [
       "jewelry.earring     29052\n",
       "jewelry.ring        28300\n",
       "jewelry.pendant     13088\n",
       "jewelry.bracelet     6188\n",
       "0.00                 4392\n",
       "                    ...  \n",
       "626.58                  1\n",
       "13.42                   1\n",
       "2.88                    1\n",
       "101.23                  1\n",
       "253.77                  1\n",
       "Name: Category alias, Length: 218, dtype: int64"
      ]
     },
     "execution_count": 349,
     "metadata": {},
     "output_type": "execute_result"
    }
   ],
   "source": [
    "# Jewelry analysis\n",
    "df[\"Category alias\"].value_counts()"
   ]
  },
  {
   "cell_type": "code",
   "execution_count": 350,
   "id": "43787c62",
   "metadata": {},
   "outputs": [
    {
     "data": {
      "text/plain": [
       "array(['jewelry.earring', nan, 'jewelry.pendant', 'jewelry.necklace',\n",
       "       'jewelry.ring', 'jewelry.brooch', 'jewelry.bracelet',\n",
       "       'electronics.clocks', 'jewelry.souvenir', '230.12', '202.36',\n",
       "       '1098.03', '321.78', '1128.62', '81.27', '34.25', '582.16',\n",
       "       '227.37', '234.22', '150.55', '131.82', '2123.15', '109.45',\n",
       "       '49.22', '472.47', '205.38', '2746.44', '51.08', '231.12', '76.97',\n",
       "       '3054.73', '184.90', '380.10', '357.49', '15.47', '135.33',\n",
       "       '719.75', '93.01', '177.95', 'jewelry.stud', '102.10', '595.75',\n",
       "       '469.56', '427.07', '53.62', '77.53', '1469.18', '355.27',\n",
       "       '184.89', '154.66', '300.58', '83.73', '271.19', '3294.21',\n",
       "       '278.04', '3626.26', '126.03', '283.52', '114.38', '89.04', '8.22',\n",
       "       '124.88', '89.73', '171.23', '136.93', '19.04', '158.77', '187.10',\n",
       "       '151.92', '1845.89', '87.23', '248.58', '596.48', '208.88',\n",
       "       '193.11', '169.84', '1447.68', '45.07', '136.85', '282.05',\n",
       "       '61.51', '210.21', '137.12', '147.81', '419.45', '825.27',\n",
       "       '300.16', '541.78', '308.74', '766.85', '410.82', '101.23', '2.88',\n",
       "       '1356.16', '13.42', '35.21', '134.79', '626.58', '13.70', '108.53',\n",
       "       '119.01', '7.40', '4.79', '153.97', '482.47', '427.36', '289.18',\n",
       "       '25.48', '1858.49', '21.70', '11.77', '198.89', '17.51', '574.66',\n",
       "       '1319.93', '393.05', '358.22', '2282.19', '114.93', '371.23',\n",
       "       '63.56', '88.77', '133.70', '117.81', '166.03', '130.41', '195.75',\n",
       "       '104.79', '228.59', '1686.93', '65.89', '242.19', '252.47',\n",
       "       '210.41', '363.42', '149.04', '157.95', '176.30', '160.96',\n",
       "       '316.30', '258.77', '268.36', '838.90', '250.96', '832.01',\n",
       "       '312.33', '318.71', '323.60', '205.34', '608.22', '343.84',\n",
       "       '598.22', '508.08', '245.67', '338.36', '75.21', '573.81',\n",
       "       '691.51', '476.68', '247.68', '286.71', '863.67', '236.58',\n",
       "       '644.66', '40.82', '1376.99', '1.23', '621.23', '3454.79', '65.62',\n",
       "       '59.73', '571.30', '70.96', '271.26', '958.84', '527.26', '271.16',\n",
       "       '284.66', '261.64', '493.01', '35.48', '446.16', '526.41',\n",
       "       '2517.08', '331.51', '312.88', '148.63', '451.21', '369.82',\n",
       "       '537.40', '231.51', '316.34', '451.10', '283.49', '787.67',\n",
       "       '131.92', '495.48', '5.48', '186.03', '484.49', '331.23', '133.85',\n",
       "       '323.70', '2635.07', '297.22', '0.00', '259.58', '108.33',\n",
       "       '4876.49', '308.08', '190.27', '916.44', '132.53', '1829.37',\n",
       "       '2208.90', '75.76', '278.01', '662.30', '253.77'], dtype=object)"
      ]
     },
     "execution_count": 350,
     "metadata": {},
     "output_type": "execute_result"
    }
   ],
   "source": [
    "df[\"Category alias\"].unique()"
   ]
  },
  {
   "cell_type": "code",
   "execution_count": 351,
   "id": "589101d9",
   "metadata": {},
   "outputs": [],
   "source": [
    "# extract actual categories\n",
    "categories = df['Category alias'].unique().tolist()\n",
    "\n",
    "categories = [c for c in categories if isinstance(c, str) and \"jewelry\" in c]"
   ]
  },
  {
   "cell_type": "code",
   "execution_count": 352,
   "id": "5dd68ea6",
   "metadata": {},
   "outputs": [
    {
     "data": {
      "text/plain": [
       "['jewelry.earring',\n",
       " 'jewelry.pendant',\n",
       " 'jewelry.necklace',\n",
       " 'jewelry.ring',\n",
       " 'jewelry.brooch',\n",
       " 'jewelry.bracelet',\n",
       " 'jewelry.souvenir',\n",
       " 'jewelry.stud']"
      ]
     },
     "execution_count": 352,
     "metadata": {},
     "output_type": "execute_result"
    }
   ],
   "source": [
    "categories"
   ]
  },
  {
   "cell_type": "code",
   "execution_count": 353,
   "id": "150f98d3",
   "metadata": {},
   "outputs": [],
   "source": [
    "# pick out authentic data based on categories\n",
    "actual_categories = df.loc[df[\"Category alias\"].isin(categories)]"
   ]
  },
  {
   "cell_type": "code",
   "execution_count": 354,
   "id": "9e408e82",
   "metadata": {},
   "outputs": [
    {
     "data": {
      "text/plain": [
       "Order datetime                   0.000000\n",
       "Order ID                         0.000000\n",
       "Purchased product ID             0.000000\n",
       "Quantity of SKU in the order     0.000000\n",
       "Category ID                      5.580173\n",
       "Category alias                  10.356476\n",
       "Brand ID                         4.989000\n",
       "Price in USD                     5.580173\n",
       "User ID                          5.580173\n",
       "Product gender                  50.221560\n",
       "Main Color                       7.986571\n",
       "Main metal                       5.694863\n",
       "Main gem                        35.510004\n",
       "dtype: float64"
      ]
     },
     "execution_count": 354,
     "metadata": {},
     "output_type": "execute_result"
    }
   ],
   "source": [
    "# check percentage of missing values\n",
    "100*df.isnull().sum()/len(df)"
   ]
  },
  {
   "cell_type": "code",
   "execution_count": 355,
   "id": "d230976c",
   "metadata": {},
   "outputs": [
    {
     "data": {
      "text/plain": [
       "Order datetime                   0.000000\n",
       "Order ID                         0.000000\n",
       "Purchased product ID             0.000000\n",
       "Quantity of SKU in the order     0.000000\n",
       "Category ID                      0.000000\n",
       "Category alias                   0.000000\n",
       "Brand ID                         4.309027\n",
       "Price in USD                     0.000000\n",
       "User ID                          0.000000\n",
       "Product gender                  44.842715\n",
       "Main Color                       2.656011\n",
       "Main metal                       0.110615\n",
       "Main gem                        24.232218\n",
       "dtype: float64"
      ]
     },
     "execution_count": 355,
     "metadata": {},
     "output_type": "execute_result"
    }
   ],
   "source": [
    "100*actual_categories.isnull().sum()/len(actual_categories)"
   ]
  },
  {
   "cell_type": "code",
   "execution_count": 356,
   "id": "f3486718",
   "metadata": {},
   "outputs": [
    {
     "data": {
      "image/png": "[encoded data removed]",
      "text/plain": [
       "<Figure size 1200x800 with 1 Axes>"
      ]
     },
     "metadata": {},
     "output_type": "display_data"
    }
   ],
   "source": [
    "# visualize jewelry categories\n",
    "subdata = actual_categories[\"Category alias\"].value_counts()\n",
    "\n",
    "jewelry_categories, counts = subdata.index.tolist(), subdata.values.tolist()\n",
    "\n",
    "plt.figure(figsize=(12,8))\n",
    "\n",
    "plt.pie(x = counts,  labels = jewelry_categories)\n",
    "\n",
    "#plt.bar(jewelry_categories, counts)  # Create a bar chart\n",
    "plt.title('Distribution of Jewelry Categories')  # Title of the chart\n",
    "#plt.xlabel('Jewelry Categories')  # X-axis label\n",
    "#plt.ylabel('Count')  # Y-axis label\n",
    "#plt.xticks(rotation=45, ha='right')  # Rotate x-axis labels for readability\n",
    "#plt.tight_layout()  # Adjust layout to fit labels\n",
    "#plt.show()\n",
    "\n",
    "plt.show(); plt.close()"
   ]
  },
  {
   "cell_type": "code",
   "execution_count": 357,
   "id": "64863645",
   "metadata": {},
   "outputs": [
    {
     "data": {
      "image/png": "[encoded data removed]",
      "text/plain": [
       "<Figure size 1500x800 with 1 Axes>"
      ]
     },
     "metadata": {},
     "output_type": "display_data"
    }
   ],
   "source": [
    "#category count plot\n",
    "plt.figure(figsize=(15,8))\n",
    "\n",
    "sns.countplot(data=actual_categories, x=\"Category alias\")\n",
    "\n",
    "plt.title('Frequency count of Jewelry Categories')\n",
    "plt.xlabel('Jewelry Categories')  # X-axis label\n",
    "plt.ylabel('Category frequency')\n",
    "\n",
    "plt.show();plt.close()"
   ]
  },
  {
   "cell_type": "code",
   "execution_count": 358,
   "id": "0acfb30e",
   "metadata": {},
   "outputs": [
    {
     "data": {
      "image/png": "[encoded data removed]",
      "text/plain": [
       "<Figure size 1500x800 with 1 Axes>"
      ]
     },
     "metadata": {},
     "output_type": "display_data"
    }
   ],
   "source": [
    "# Analyze jewelry category by gender\n",
    "plt.figure(figsize =(15, 8))\n",
    "\n",
    "sns.countplot(data=actual_categories, x=\"Category alias\", hue =\"Product gender\")\n",
    "\n",
    "plt.title('Jewelry Categories by Gender Distribution')  # Title of the chart\n",
    "plt.xlabel('Jewelry Categories by gender')  # X-axis label\n",
    "plt.ylabel('Category frequency')\n",
    "\n",
    "plt.show();plt.close()"
   ]
  },
  {
   "cell_type": "code",
   "execution_count": 359,
   "id": "dd883231",
   "metadata": {},
   "outputs": [
    {
     "data": {
      "text/plain": [
       "f    0.992376\n",
       "m    0.007624\n",
       "Name: Product gender, dtype: float64"
      ]
     },
     "execution_count": 359,
     "metadata": {},
     "output_type": "execute_result"
    }
   ],
   "source": [
    "#Gender skew i original data\n",
    "df[\"Product gender\"].value_counts(normalize=True)"
   ]
  },
  {
   "cell_type": "code",
   "execution_count": 360,
   "id": "da338418",
   "metadata": {},
   "outputs": [
    {
     "data": {
      "text/plain": [
       "f    0.994434\n",
       "m    0.005566\n",
       "Name: Product gender, dtype: float64"
      ]
     },
     "execution_count": 360,
     "metadata": {},
     "output_type": "execute_result"
    }
   ],
   "source": [
    "actual_categories[\"Product gender\"].value_counts(normalize=True)"
   ]
  },
  {
   "cell_type": "code",
   "execution_count": 361,
   "id": "b3b0b2de",
   "metadata": {},
   "outputs": [],
   "source": [
    "# Create a copy of the dataframe to avoid modifying the original DataFrame\n",
    "actual_categories = actual_categories.copy()\n",
    "\n",
    "# Now, you can safely modify 'Category alias'\n",
    "actual_categories[\"Category alias\"] = encoded\n"
   ]
  },
  {
   "cell_type": "code",
   "execution_count": 362,
   "id": "1db305a2",
   "metadata": {},
   "outputs": [],
   "source": [
    "# Create a copy of the dataframe to avoid modifying the original DataFrame\n",
    "actual_categories = actual_categories.copy()\n",
    "\n",
    "# Now, you can safely modify 'Category alias'\n",
    "actual_categories[\"Main Color\"] = encoded\n"
   ]
  },
  {
   "cell_type": "code",
   "execution_count": 363,
   "id": "34eb8b4a",
   "metadata": {},
   "outputs": [],
   "source": [
    "# Create a copy of the dataframe to avoid modifying the original DataFrame\n",
    "actual_categories = actual_categories.copy()\n",
    "\n",
    "# Now, you can safely modify 'Category alias'\n",
    "actual_categories[\"Main gem\"] = encoded\n"
   ]
  },
  {
   "cell_type": "code",
   "execution_count": 364,
   "id": "3119ddad",
   "metadata": {},
   "outputs": [],
   "source": [
    "# Create a copy of the dataframe to avoid modifying the original DataFrame\n",
    "actual_categories = actual_categories.copy()\n",
    "\n",
    "# Now, you can safely modify 'Category alias'\n",
    "actual_categories[\"Main metal\"] = encoded\n"
   ]
  },
  {
   "cell_type": "code",
   "execution_count": 365,
   "id": "8bb028b7",
   "metadata": {},
   "outputs": [
    {
     "data": {
      "text/html": [
       "<div>\n",
       "<style scoped>\n",
       "    .dataframe tbody tr th:only-of-type {\n",
       "        vertical-align: middle;\n",
       "    }\n",
       "\n",
       "    .dataframe tbody tr th {\n",
       "        vertical-align: top;\n",
       "    }\n",
       "\n",
       "    .dataframe thead th {\n",
       "        text-align: right;\n",
       "    }\n",
       "</style>\n",
       "<table border=\"1\" class=\"dataframe\">\n",
       "  <thead>\n",
       "    <tr style=\"text-align: right;\">\n",
       "      <th></th>\n",
       "      <th>Order datetime</th>\n",
       "      <th>Order ID</th>\n",
       "      <th>Purchased product ID</th>\n",
       "      <th>Quantity of SKU in the order</th>\n",
       "      <th>Category ID</th>\n",
       "      <th>Category alias</th>\n",
       "      <th>Brand ID</th>\n",
       "      <th>Price in USD</th>\n",
       "      <th>User ID</th>\n",
       "      <th>Product gender</th>\n",
       "      <th>Main Color</th>\n",
       "      <th>Main metal</th>\n",
       "      <th>Main gem</th>\n",
       "    </tr>\n",
       "  </thead>\n",
       "  <tbody>\n",
       "    <tr>\n",
       "      <th>0</th>\n",
       "      <td>2018-12-01 11:40:29 UTC</td>\n",
       "      <td>1924719191579951782</td>\n",
       "      <td>1842195256808833386</td>\n",
       "      <td>1</td>\n",
       "      <td>1.806829e+18</td>\n",
       "      <td>0</td>\n",
       "      <td>0.0</td>\n",
       "      <td>561.51</td>\n",
       "      <td>1.515916e+18</td>\n",
       "      <td>NaN</td>\n",
       "      <td>0</td>\n",
       "      <td>0</td>\n",
       "      <td>0</td>\n",
       "    </tr>\n",
       "    <tr>\n",
       "      <th>2</th>\n",
       "      <td>2018-12-02 13:53:42 UTC</td>\n",
       "      <td>1925511016616034733</td>\n",
       "      <td>1842214461889315556</td>\n",
       "      <td>1</td>\n",
       "      <td>1.806829e+18</td>\n",
       "      <td>1</td>\n",
       "      <td>1.0</td>\n",
       "      <td>54.66</td>\n",
       "      <td>1.515916e+18</td>\n",
       "      <td>f</td>\n",
       "      <td>1</td>\n",
       "      <td>1</td>\n",
       "      <td>1</td>\n",
       "    </tr>\n",
       "    <tr>\n",
       "      <th>3</th>\n",
       "      <td>2018-12-02 17:44:02 UTC</td>\n",
       "      <td>1925626951238681511</td>\n",
       "      <td>1835566849434059453</td>\n",
       "      <td>1</td>\n",
       "      <td>1.806829e+18</td>\n",
       "      <td>1</td>\n",
       "      <td>0.0</td>\n",
       "      <td>88.90</td>\n",
       "      <td>1.515916e+18</td>\n",
       "      <td>f</td>\n",
       "      <td>1</td>\n",
       "      <td>1</td>\n",
       "      <td>1</td>\n",
       "    </tr>\n",
       "    <tr>\n",
       "      <th>4</th>\n",
       "      <td>2018-12-02 21:30:19 UTC</td>\n",
       "      <td>1925740842841014667</td>\n",
       "      <td>1873936840742928865</td>\n",
       "      <td>1</td>\n",
       "      <td>1.806829e+18</td>\n",
       "      <td>2</td>\n",
       "      <td>0.0</td>\n",
       "      <td>417.67</td>\n",
       "      <td>1.515916e+18</td>\n",
       "      <td>NaN</td>\n",
       "      <td>2</td>\n",
       "      <td>2</td>\n",
       "      <td>2</td>\n",
       "    </tr>\n",
       "    <tr>\n",
       "      <th>5</th>\n",
       "      <td>2018-12-02 22:09:34 UTC</td>\n",
       "      <td>1925760595336888995</td>\n",
       "      <td>1835566854827934449</td>\n",
       "      <td>1</td>\n",
       "      <td>1.806829e+18</td>\n",
       "      <td>0</td>\n",
       "      <td>1.0</td>\n",
       "      <td>102.27</td>\n",
       "      <td>1.515916e+18</td>\n",
       "      <td>NaN</td>\n",
       "      <td>0</td>\n",
       "      <td>0</td>\n",
       "      <td>0</td>\n",
       "    </tr>\n",
       "  </tbody>\n",
       "</table>\n",
       "</div>"
      ],
      "text/plain": [
       "            Order datetime             Order ID  Purchased product ID  \\\n",
       "0  2018-12-01 11:40:29 UTC  1924719191579951782   1842195256808833386   \n",
       "2  2018-12-02 13:53:42 UTC  1925511016616034733   1842214461889315556   \n",
       "3  2018-12-02 17:44:02 UTC  1925626951238681511   1835566849434059453   \n",
       "4  2018-12-02 21:30:19 UTC  1925740842841014667   1873936840742928865   \n",
       "5  2018-12-02 22:09:34 UTC  1925760595336888995   1835566854827934449   \n",
       "\n",
       "   Quantity of SKU in the order   Category ID  Category alias  Brand ID  \\\n",
       "0                             1  1.806829e+18               0       0.0   \n",
       "2                             1  1.806829e+18               1       1.0   \n",
       "3                             1  1.806829e+18               1       0.0   \n",
       "4                             1  1.806829e+18               2       0.0   \n",
       "5                             1  1.806829e+18               0       1.0   \n",
       "\n",
       "   Price in USD       User ID Product gender  Main Color  Main metal  Main gem  \n",
       "0        561.51  1.515916e+18            NaN           0           0         0  \n",
       "2         54.66  1.515916e+18              f           1           1         1  \n",
       "3         88.90  1.515916e+18              f           1           1         1  \n",
       "4        417.67  1.515916e+18            NaN           2           2         2  \n",
       "5        102.27  1.515916e+18            NaN           0           0         0  "
      ]
     },
     "execution_count": 365,
     "metadata": {},
     "output_type": "execute_result"
    }
   ],
   "source": [
    "actual_categories.head()"
   ]
  },
  {
   "cell_type": "code",
   "execution_count": 366,
   "id": "58ef3994",
   "metadata": {},
   "outputs": [
    {
     "name": "stdout",
     "output_type": "stream",
     "text": [
      "<class 'pandas.core.frame.DataFrame'>\n",
      "Int64Index: 80459 entries, 0 to 95910\n",
      "Data columns (total 13 columns):\n",
      " #   Column                        Non-Null Count  Dtype  \n",
      "---  ------                        --------------  -----  \n",
      " 0   Order datetime                80459 non-null  object \n",
      " 1   Order ID                      80459 non-null  int64  \n",
      " 2   Purchased product ID          80459 non-null  int64  \n",
      " 3   Quantity of SKU in the order  80459 non-null  int64  \n",
      " 4   Category ID                   80459 non-null  float64\n",
      " 5   Category alias                80459 non-null  int64  \n",
      " 6   Brand ID                      76992 non-null  float64\n",
      " 7   Price in USD                  80459 non-null  float64\n",
      " 8   User ID                       80459 non-null  float64\n",
      " 9   Product gender                44379 non-null  object \n",
      " 10  Main Color                    80459 non-null  int64  \n",
      " 11  Main metal                    80459 non-null  int64  \n",
      " 12  Main gem                      80459 non-null  int64  \n",
      "dtypes: float64(4), int64(7), object(2)\n",
      "memory usage: 8.6+ MB\n"
     ]
    }
   ],
   "source": [
    "actual_categories.info()"
   ]
  },
  {
   "cell_type": "markdown",
   "id": "fd5a55b3",
   "metadata": {},
   "source": [
    "The table below shows notable key correlation results\n",
    "\n",
    "| Feature Pair                     | Spearman Correlation |\n",
    "| -------------------------------- | -------------------- |\n",
    "| `Category ID` ↔ `Category alias` | **-0.63**            |\n",
    "| `Category ID` ↔ `Main Color`     | **-0.63**            |\n",
    "| `Category ID` ↔ `Main metal`     | **-0.63**            |\n",
    "| `Category ID` ↔ `Main gem`       | **-0.63**            |\n",
    "| `Category ID` ↔ `Brand ID`       | 0.11                 |\n",
    "| `Category ID` ↔ `Product gender` | 0.11                 |\n",
    "| `Brand ID` ↔ `Product gender`    | **0.62**             |\n",
    "| `Price in USD` ↔ `Category ID`   | -0.29                |\n",
    "\n",
    "\n",
    "The result above indicates the following\n",
    "\n",
    "1. Very strong negative correlation (-0.63) between Category ID and multiple features (Main Color, Main metal, Main gem, Category alias) suggests categorical redundancy or reverse-ordinal patterns.\n",
    "\n",
    "2. Moderate positive correlation (0.62) between Brand ID and Product gender implies brand-gender association patterns, valuable for marketing.\n"
   ]
  },
  {
   "cell_type": "markdown",
   "id": "635fbb6b",
   "metadata": {},
   "source": [
    "# 5. Feature Selection Based on Correlation\n",
    "Here correlation is checked and then The code creates a dictionary correlated_columns to store features that are moderately correlated (fall between defined lower and upper bounds).This section is implemented to reduce to reduce dimensionality and avoid overfitting in machine learning models by eliminating redundant features."
   ]
  },
  {
   "cell_type": "code",
   "execution_count": 367,
   "id": "ed5a0e4f",
   "metadata": {},
   "outputs": [
    {
     "name": "stdout",
     "output_type": "stream",
     "text": [
      "                              Quantity of SKU in the order  Category ID  \\\n",
      "Quantity of SKU in the order                           NaN          NaN   \n",
      "Category ID                                            NaN     1.000000   \n",
      "Category alias                                         NaN    -0.633629   \n",
      "Brand ID                                               NaN     0.111322   \n",
      "Price in USD                                           NaN    -0.296486   \n",
      "Main Color                                             NaN    -0.633629   \n",
      "Main metal                                             NaN    -0.633629   \n",
      "Main gem                                               NaN    -0.633629   \n",
      "\n",
      "                              Category alias  Brand ID  Price in USD  \\\n",
      "Quantity of SKU in the order             NaN       NaN           NaN   \n",
      "Category ID                        -0.633629  0.111322     -0.296486   \n",
      "Category alias                      1.000000 -0.056923      0.068435   \n",
      "Brand ID                           -0.056923  1.000000     -0.018442   \n",
      "Price in USD                        0.068435 -0.018442      1.000000   \n",
      "Main Color                          1.000000 -0.056923      0.068435   \n",
      "Main metal                          1.000000 -0.056923      0.068435   \n",
      "Main gem                            1.000000 -0.056923      0.068435   \n",
      "\n",
      "                              Main Color  Main metal  Main gem  \n",
      "Quantity of SKU in the order         NaN         NaN       NaN  \n",
      "Category ID                    -0.633629   -0.633629 -0.633629  \n",
      "Category alias                  1.000000    1.000000  1.000000  \n",
      "Brand ID                       -0.056923   -0.056923 -0.056923  \n",
      "Price in USD                    0.068435    0.068435  0.068435  \n",
      "Main Color                      1.000000    1.000000  1.000000  \n",
      "Main metal                      1.000000    1.000000  1.000000  \n",
      "Main gem                        1.000000    1.000000  1.000000  \n"
     ]
    }
   ],
   "source": [
    "# feature correlation\n",
    "# Drop the columns \"Order datetime\", \"Order ID\", \"Purchased product ID\", and \"User ID\" and compute correlation\n",
    "correlation = actual_categories.drop([\"Order datetime\", \"Order ID\", \"Purchased product ID\", \"User ID\"], axis=1).corr(method=\"spearman\")\n",
    "\n",
    "# Display the correlation matrix\n",
    "print(correlation)\n",
    "\n"
   ]
  },
  {
   "cell_type": "code",
   "execution_count": 368,
   "id": "1de6f138",
   "metadata": {},
   "outputs": [
    {
     "data": {
      "image/png": "[encoded data removed]",
      "text/plain": [
       "<Figure size 1000x800 with 2 Axes>"
      ]
     },
     "metadata": {},
     "output_type": "display_data"
    }
   ],
   "source": [
    "# Correlation Heatmap\n",
    "plt.figure(figsize=(10,8))\n",
    "sns.heatmap(correlation, annot=True, center =.3, cmap='coolwarm', fmt='.2f')\n",
    "\n",
    "plt.title('Correlation Heatmap')\n",
    "plt.show()\n",
    "plt.close()"
   ]
  },
  {
   "cell_type": "markdown",
   "id": "fc8e9754",
   "metadata": {},
   "source": [
    "The heatmap above confirms the strong correlations and makes it visually apparent which variables are multicollinear."
   ]
  },
  {
   "cell_type": "code",
   "execution_count": 369,
   "id": "32e47e8a",
   "metadata": {},
   "outputs": [],
   "source": [
    "#set correlation limit\n",
    "upper =1\n",
    "lower =.2"
   ]
  },
  {
   "cell_type": "code",
   "execution_count": 370,
   "id": "207e2395",
   "metadata": {},
   "outputs": [],
   "source": [
    "#explicitly get correlated features\n",
    "correlated_columns = {\n",
    "    column: correlation[(correlation[column] > lower) & (correlation[column] < upper)].index.tolist()\n",
    "    for column in correlation.columns\n",
    "}"
   ]
  },
  {
   "cell_type": "code",
   "execution_count": 371,
   "id": "f30e6b53",
   "metadata": {},
   "outputs": [
    {
     "data": {
      "text/plain": [
       "{'Quantity of SKU in the order': [],\n",
       " 'Category ID': [],\n",
       " 'Category alias': [],\n",
       " 'Brand ID': [],\n",
       " 'Price in USD': [],\n",
       " 'Main Color': [],\n",
       " 'Main metal': [],\n",
       " 'Main gem': []}"
      ]
     },
     "execution_count": 371,
     "metadata": {},
     "output_type": "execute_result"
    }
   ],
   "source": [
    "correlated_columns"
   ]
  },
  {
   "cell_type": "markdown",
   "id": "2b6a1d27",
   "metadata": {},
   "source": [
    "INTERPRETATION\n",
    "\n",
    "1. Features with correlation coefficients between 0.2 and 1.0 (excluding 1.0 itself) are stored for each variable.\n",
    "\n",
    "2. Helps in building a dictionary of moderately-to-highly correlated features, potentially guiding:\n",
    "\n",
    "   Feature selection,\n",
    "\n",
    "   Dimensionality reduction (e.g. PCA),\n",
    "\n",
    "   Domain-driven hypothesis testing."
   ]
  },
  {
   "cell_type": "markdown",
   "id": "f19c8777",
   "metadata": {},
   "source": [
    "# 6.  Quantitative Implications from EDA\n",
    "The table below summarise the findings and Business implications\n",
    "\n",
    "| Finding                                                   | Numerical Evidence                | Interpretation                                                                                                                     |\n",
    "| --------------------------------------------------------- | --------------------------------- | ---------------------------------------------------------------------------------------------------------------------------------- |\n",
    "| `Brand ID` and `Product gender` are correlated            | 0.6237                            | Strong gender-brand association: useful in personalized advertising or gender-based product lines.                                 |\n",
    "| Multiple features correlate with `Category ID` at \\~-0.63 | Main gem, Main metal, Color, etc. | These are either redundant or driven by shared category metadata (e.g. \"Gold Ring\" might define both \"Main metal\" and \"Category\"). |\n",
    "| Price has a slight negative correlation with Category ID  | -0.29                             | Suggests product types (categories) vary in pricing (e.g., rings might be cheaper than necklaces).                                 |\n",
    "| Most correlations with quantity are **NaN**               | —                                 | Indicates constant or null variance for quantity across certain categories — should be investigated.                               |\n"
   ]
  },
  {
   "cell_type": "markdown",
   "id": "89f26cf5",
   "metadata": {},
   "source": [
    "# Data Preparation"
   ]
  },
  {
   "cell_type": "markdown",
   "id": "cb2011ad",
   "metadata": {},
   "source": [
    "## Eliminated Unwanted Features \n",
    "## Feature Encoding Using OneHotEncoder\n",
    "# Fix Target Skew\n",
    "# Handle missing Values"
   ]
  },
  {
   "cell_type": "code",
   "execution_count": 372,
   "id": "532ec69b",
   "metadata": {},
   "outputs": [
    {
     "name": "stdout",
     "output_type": "stream",
     "text": [
      "(95911, 8)\n"
     ]
    }
   ],
   "source": [
    "#Eliminate Unwanted/redundant Features\n",
    "columns_to_drop = [\n",
    "    'Quantity of SKU in the order',\n",
    "    'Order ID',\n",
    "    'Purchased product ID',\n",
    "    'User ID',\n",
    "    'Category ID'\n",
    "]\n",
    "df = df.drop(labels=columns_to_drop, axis=1)\n",
    "\n",
    "print(df.shape)"
   ]
  },
  {
   "cell_type": "code",
   "execution_count": 373,
   "id": "22c4a517",
   "metadata": {},
   "outputs": [],
   "source": [
    "df = df.drop(labels = ['Order datetime'], axis=1)"
   ]
  },
  {
   "cell_type": "code",
   "execution_count": 374,
   "id": "90c36dff",
   "metadata": {},
   "outputs": [
    {
     "data": {
      "text/html": [
       "<div>\n",
       "<style scoped>\n",
       "    .dataframe tbody tr th:only-of-type {\n",
       "        vertical-align: middle;\n",
       "    }\n",
       "\n",
       "    .dataframe tbody tr th {\n",
       "        vertical-align: top;\n",
       "    }\n",
       "\n",
       "    .dataframe thead th {\n",
       "        text-align: right;\n",
       "    }\n",
       "</style>\n",
       "<table border=\"1\" class=\"dataframe\">\n",
       "  <thead>\n",
       "    <tr style=\"text-align: right;\">\n",
       "      <th></th>\n",
       "      <th>Category alias</th>\n",
       "      <th>Brand ID</th>\n",
       "      <th>Price in USD</th>\n",
       "      <th>Product gender</th>\n",
       "      <th>Main Color</th>\n",
       "      <th>Main metal</th>\n",
       "      <th>Main gem</th>\n",
       "    </tr>\n",
       "  </thead>\n",
       "  <tbody>\n",
       "    <tr>\n",
       "      <th>0</th>\n",
       "      <td>jewelry.earring</td>\n",
       "      <td>0.0</td>\n",
       "      <td>561.51</td>\n",
       "      <td>NaN</td>\n",
       "      <td>red</td>\n",
       "      <td>gold</td>\n",
       "      <td>diamond</td>\n",
       "    </tr>\n",
       "    <tr>\n",
       "      <th>1</th>\n",
       "      <td>NaN</td>\n",
       "      <td>NaN</td>\n",
       "      <td>212.14</td>\n",
       "      <td>NaN</td>\n",
       "      <td>yellow</td>\n",
       "      <td>gold</td>\n",
       "      <td>NaN</td>\n",
       "    </tr>\n",
       "    <tr>\n",
       "      <th>2</th>\n",
       "      <td>jewelry.pendant</td>\n",
       "      <td>1.0</td>\n",
       "      <td>54.66</td>\n",
       "      <td>f</td>\n",
       "      <td>white</td>\n",
       "      <td>gold</td>\n",
       "      <td>sapphire</td>\n",
       "    </tr>\n",
       "    <tr>\n",
       "      <th>3</th>\n",
       "      <td>jewelry.pendant</td>\n",
       "      <td>0.0</td>\n",
       "      <td>88.90</td>\n",
       "      <td>f</td>\n",
       "      <td>red</td>\n",
       "      <td>gold</td>\n",
       "      <td>diamond</td>\n",
       "    </tr>\n",
       "    <tr>\n",
       "      <th>4</th>\n",
       "      <td>jewelry.necklace</td>\n",
       "      <td>0.0</td>\n",
       "      <td>417.67</td>\n",
       "      <td>NaN</td>\n",
       "      <td>red</td>\n",
       "      <td>gold</td>\n",
       "      <td>amethyst</td>\n",
       "    </tr>\n",
       "  </tbody>\n",
       "</table>\n",
       "</div>"
      ],
      "text/plain": [
       "     Category alias  Brand ID  Price in USD Product gender Main Color  \\\n",
       "0   jewelry.earring       0.0        561.51            NaN        red   \n",
       "1               NaN       NaN        212.14            NaN     yellow   \n",
       "2   jewelry.pendant       1.0         54.66              f      white   \n",
       "3   jewelry.pendant       0.0         88.90              f        red   \n",
       "4  jewelry.necklace       0.0        417.67            NaN        red   \n",
       "\n",
       "  Main metal  Main gem  \n",
       "0       gold   diamond  \n",
       "1       gold       NaN  \n",
       "2       gold  sapphire  \n",
       "3       gold   diamond  \n",
       "4       gold  amethyst  "
      ]
     },
     "execution_count": 374,
     "metadata": {},
     "output_type": "execute_result"
    }
   ],
   "source": [
    "df.head()"
   ]
  },
  {
   "cell_type": "code",
   "execution_count": 375,
   "id": "e83a2aa8",
   "metadata": {},
   "outputs": [],
   "source": [
    "#Eliminate unrealistic categories\"\n",
    "df = df.loc[df['Category alias'].isin(categories), :]"
   ]
  },
  {
   "cell_type": "code",
   "execution_count": 376,
   "id": "2567be37",
   "metadata": {},
   "outputs": [
    {
     "data": {
      "text/plain": [
       "(80459, 7)"
      ]
     },
     "execution_count": 376,
     "metadata": {},
     "output_type": "execute_result"
    }
   ],
   "source": [
    "df.shape"
   ]
  },
  {
   "cell_type": "code",
   "execution_count": 377,
   "id": "594cb61e",
   "metadata": {},
   "outputs": [],
   "source": [
    "import numpy as np\n",
    "import pandas as pd\n",
    "from sklearn.pipeline import Pipeline\n",
    "from sklearn.compose import ColumnTransformer\n",
    "from sklearn.impute import SimpleImputer\n",
    "from sklearn.preprocessing import OneHotEncoder, FunctionTransformer\n",
    "from sklearn.linear_model import LinearRegression\n",
    "from sklearn.compose import TransformedTargetRegressor\n",
    "from sklearn.model_selection import train_test_split\n",
    "\n",
    "# --- Assume df is your DataFrame with both features and target ---\n",
    "# Example: target = 'Price in USD'\n",
    "target = 'Price in USD'\n",
    "\n",
    "# Select categorical columns for encoding\n",
    "categorical_cols = ['Main gem', 'Main metal', 'Product gender']\n",
    "\n",
    "# Identify numeric columns (excluding the target)\n",
    "numeric_cols = [col for col in df.select_dtypes(include=[np.number]).columns if col != target]\n",
    "\n",
    "# Define preprocessing for numeric and categorical features\n",
    "num_pipeline = Pipeline([\n",
    "    ('imputer', SimpleImputer(strategy='median'))\n",
    "])\n",
    "\n",
    "cat_pipeline = Pipeline([\n",
    "    ('imputer', SimpleImputer(strategy='most_frequent')),\n",
    "    ('encoder', OneHotEncoder(handle_unknown='ignore', sparse=False))\n",
    "])\n",
    "\n",
    "preprocessor = ColumnTransformer([\n",
    "    ('num', num_pipeline, numeric_cols),\n",
    "    ('cat', cat_pipeline, categorical_cols)\n",
    "])\n"
   ]
  },
  {
   "cell_type": "code",
   "execution_count": 378,
   "id": "f254614f",
   "metadata": {},
   "outputs": [],
   "source": [
    "from sklearn.model_selection import train_test_split"
   ]
  },
  {
   "cell_type": "code",
   "execution_count": 379,
   "id": "63e3f487",
   "metadata": {},
   "outputs": [],
   "source": [
    "X, y =df.drop(labels=[\"Price in USD\"], axis =1), df['Price in USD']"
   ]
  },
  {
   "cell_type": "code",
   "execution_count": 380,
   "id": "42003896",
   "metadata": {},
   "outputs": [],
   "source": [
    "# create test and train split\n",
    "X_train, y_train, X_test, y_test = train_test_split(X, y, test_size= .1)"
   ]
  },
  {
   "cell_type": "code",
   "execution_count": null,
   "id": "5957ef7e",
   "metadata": {},
   "outputs": [],
   "source": []
  },
  {
   "cell_type": "code",
   "execution_count": null,
   "id": "4d6a7d5a",
   "metadata": {},
   "outputs": [],
   "source": []
  },
  {
   "cell_type": "code",
   "execution_count": null,
   "id": "f76ff04c",
   "metadata": {},
   "outputs": [],
   "source": []
  },
  {
   "cell_type": "code",
   "execution_count": null,
   "id": "2cf8dbd0",
   "metadata": {},
   "outputs": [],
   "source": []
  },
  {
   "cell_type": "code",
   "execution_count": null,
   "id": "64ece57b",
   "metadata": {},
   "outputs": [],
   "source": []
  },
  {
   "cell_type": "code",
   "execution_count": null,
   "id": "a2bb9cf8",
   "metadata": {},
   "outputs": [],
   "source": []
  },
  {
   "cell_type": "code",
   "execution_count": null,
   "id": "6859d337",
   "metadata": {},
   "outputs": [],
   "source": []
  },
  {
   "cell_type": "code",
   "execution_count": null,
   "id": "2cf14bce",
   "metadata": {},
   "outputs": [],
   "source": []
  },
  {
   "cell_type": "code",
   "execution_count": null,
   "id": "9acd5c10",
   "metadata": {},
   "outputs": [],
   "source": []
  },
  {
   "cell_type": "code",
   "execution_count": null,
   "id": "86497eff",
   "metadata": {},
   "outputs": [],
   "source": []
  },
  {
   "cell_type": "code",
   "execution_count": null,
   "id": "790fb4c4",
   "metadata": {},
   "outputs": [],
   "source": []
  },
  {
   "cell_type": "code",
   "execution_count": null,
   "id": "9ed494a5",
   "metadata": {},
   "outputs": [],
   "source": []
  }
 ],
 "metadata": {
  "kernelspec": {
   "display_name": "Python 3 (ipykernel)",
   "language": "python",
   "name": "python3"
  },
  "language_info": {
   "codemirror_mode": {
    "name": "ipython",
    "version": 3
   },
   "file_extension": ".py",
   "mimetype": "text/x-python",
   "name": "python",
   "nbconvert_exporter": "python",
   "pygments_lexer": "ipython3",
   "version": "3.9.13"
  }
 },
 "nbformat": 4,
 "nbformat_minor": 5
}
